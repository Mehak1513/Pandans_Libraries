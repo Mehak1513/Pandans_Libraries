{
 "cells": [
  {
   "cell_type": "markdown",
   "id": "88650ab6-1564-47ff-ba03-dad04ee1755a",
   "metadata": {},
   "source": [
    "__Data analysis using Pandas__\n"
   ]
  },
  {
   "cell_type": "markdown",
   "id": "e90966d6-f872-473b-b921-8c5257fad97f",
   "metadata": {},
   "source": [
    "__Q1. How to install Pandas library__"
   ]
  },
  {
   "cell_type": "code",
   "execution_count": 11,
   "id": "c765280a-35a3-4c53-8040-6fdb62f64ba2",
   "metadata": {},
   "outputs": [
    {
     "name": "stdout",
     "output_type": "stream",
     "text": [
      "Requirement already satisfied: pandas in c:\\users\\dell\\anaconda3\\lib\\site-packages (2.2.2)\n",
      "Requirement already satisfied: numpy>=1.26.0 in c:\\users\\dell\\anaconda3\\lib\\site-packages (from pandas) (1.26.4)\n",
      "Requirement already satisfied: python-dateutil>=2.8.2 in c:\\users\\dell\\anaconda3\\lib\\site-packages (from pandas) (2.9.0.post0)\n",
      "Requirement already satisfied: pytz>=2020.1 in c:\\users\\dell\\anaconda3\\lib\\site-packages (from pandas) (2024.1)\n",
      "Requirement already satisfied: tzdata>=2022.7 in c:\\users\\dell\\anaconda3\\lib\\site-packages (from pandas) (2023.3)\n",
      "Requirement already satisfied: six>=1.5 in c:\\users\\dell\\anaconda3\\lib\\site-packages (from python-dateutil>=2.8.2->pandas) (1.16.0)\n",
      "Note: you may need to restart the kernel to use updated packages.\n"
     ]
    }
   ],
   "source": [
    "pip install pandas"
   ]
  },
  {
   "cell_type": "markdown",
   "id": "41ffdfcd-45ed-4584-afc0-03b1063b47ca",
   "metadata": {},
   "source": [
    "__Q2. How to import pandas in python__"
   ]
  },
  {
   "cell_type": "code",
   "execution_count": 91,
   "id": "3861a4ed-32f3-472a-9393-01bf3ca04875",
   "metadata": {},
   "outputs": [],
   "source": [
    "import pandas as pd"
   ]
  },
  {
   "cell_type": "markdown",
   "id": "5ef7c99f-4838-4e16-8845-de535434dfcb",
   "metadata": {},
   "source": [
    "__Q3. How to read csv file in pandas library__<br>\n",
    "A) in following code __ff__ is a variable and __Null__ is csv file "
   ]
  },
  {
   "cell_type": "code",
   "execution_count": 122,
   "id": "020ee752-1862-4e46-86ff-3c71b51d244e",
   "metadata": {},
   "outputs": [
    {
     "data": {
      "text/html": [
       "<div>\n",
       "<style scoped>\n",
       "    .dataframe tbody tr th:only-of-type {\n",
       "        vertical-align: middle;\n",
       "    }\n",
       "\n",
       "    .dataframe tbody tr th {\n",
       "        vertical-align: top;\n",
       "    }\n",
       "\n",
       "    .dataframe thead th {\n",
       "        text-align: right;\n",
       "    }\n",
       "</style>\n",
       "<table border=\"1\" class=\"dataframe\">\n",
       "  <thead>\n",
       "    <tr style=\"text-align: right;\">\n",
       "      <th></th>\n",
       "      <th>E_id</th>\n",
       "      <th>Name</th>\n",
       "      <th>Salary</th>\n",
       "      <th>Gender</th>\n",
       "    </tr>\n",
       "  </thead>\n",
       "  <tbody>\n",
       "    <tr>\n",
       "      <th>0</th>\n",
       "      <td>E001</td>\n",
       "      <td>Arvind</td>\n",
       "      <td>45000.0</td>\n",
       "      <td>Male</td>\n",
       "    </tr>\n",
       "    <tr>\n",
       "      <th>1</th>\n",
       "      <td>NaN</td>\n",
       "      <td>Anand</td>\n",
       "      <td>NaN</td>\n",
       "      <td>NaN</td>\n",
       "    </tr>\n",
       "    <tr>\n",
       "      <th>2</th>\n",
       "      <td>E003</td>\n",
       "      <td>NaN</td>\n",
       "      <td>1200.0</td>\n",
       "      <td>NaN</td>\n",
       "    </tr>\n",
       "    <tr>\n",
       "      <th>3</th>\n",
       "      <td>E004</td>\n",
       "      <td>Harsh</td>\n",
       "      <td>NaN</td>\n",
       "      <td>Male</td>\n",
       "    </tr>\n",
       "    <tr>\n",
       "      <th>4</th>\n",
       "      <td>NaN</td>\n",
       "      <td>Pooja</td>\n",
       "      <td>14000.0</td>\n",
       "      <td>NaN</td>\n",
       "    </tr>\n",
       "    <tr>\n",
       "      <th>5</th>\n",
       "      <td>E006</td>\n",
       "      <td>NaN</td>\n",
       "      <td>NaN</td>\n",
       "      <td>NaN</td>\n",
       "    </tr>\n",
       "    <tr>\n",
       "      <th>6</th>\n",
       "      <td>NaN</td>\n",
       "      <td>Ankit</td>\n",
       "      <td>5800.0</td>\n",
       "      <td>NaN</td>\n",
       "    </tr>\n",
       "    <tr>\n",
       "      <th>7</th>\n",
       "      <td>E008</td>\n",
       "      <td>Sonal</td>\n",
       "      <td>NaN</td>\n",
       "      <td>Male</td>\n",
       "    </tr>\n",
       "  </tbody>\n",
       "</table>\n",
       "</div>"
      ],
      "text/plain": [
       "  E_id     Name   Salary  Gender \n",
       "0  E001  Arvind   45000.0    Male\n",
       "1   NaN   Anand       NaN     NaN\n",
       "2  E003      NaN   1200.0     NaN\n",
       "3  E004    Harsh      NaN    Male\n",
       "4   NaN   Pooja   14000.0     NaN\n",
       "5  E006      NaN      NaN     NaN\n",
       "6   NaN   Ankit    5800.0     NaN\n",
       "7  E008   Sonal       NaN   Male "
      ]
     },
     "execution_count": 122,
     "metadata": {},
     "output_type": "execute_result"
    }
   ],
   "source": [
    "ff=pd.read_csv(\"Null.csv\")\n",
    "ff"
   ]
  },
  {
   "cell_type": "markdown",
   "id": "56908e91-d762-4d85-8b2a-cad4c3b4d5f5",
   "metadata": {},
   "source": [
    "__Q4. How to cheack total number of rows and columns__<br>\n",
    "Then we have to use Shape attribute.\n"
   ]
  },
  {
   "cell_type": "code",
   "execution_count": 28,
   "id": "30e67203-5772-4e6c-9309-10cc2a47d4c6",
   "metadata": {},
   "outputs": [
    {
     "data": {
      "text/plain": [
       "(8, 4)"
      ]
     },
     "execution_count": 28,
     "metadata": {},
     "output_type": "execute_result"
    }
   ],
   "source": [
    "ff.shape"
   ]
  },
  {
   "cell_type": "markdown",
   "id": "ab36ce98-4c11-40b6-8c9f-89d507fa901e",
   "metadata": {},
   "source": [
    "__Q5. How to check information of data__<br>\n",
    ".info()"
   ]
  },
  {
   "cell_type": "code",
   "execution_count": 37,
   "id": "4f87bba7-d2bc-4280-885b-3fad01928531",
   "metadata": {},
   "outputs": [
    {
     "name": "stdout",
     "output_type": "stream",
     "text": [
      "<class 'pandas.core.frame.DataFrame'>\n",
      "RangeIndex: 8 entries, 0 to 7\n",
      "Data columns (total 4 columns):\n",
      " #   Column   Non-Null Count  Dtype  \n",
      "---  ------   --------------  -----  \n",
      " 0   E_id     5 non-null      object \n",
      " 1   Name     6 non-null      object \n",
      " 2   Salary   4 non-null      float64\n",
      " 3   Gender   3 non-null      object \n",
      "dtypes: float64(1), object(3)\n",
      "memory usage: 388.0+ bytes\n"
     ]
    }
   ],
   "source": [
    "ff.info()"
   ]
  },
  {
   "cell_type": "markdown",
   "id": "3152051a-1433-4ceb-8556-7d9a785d786c",
   "metadata": {},
   "source": [
    "__Q6.How to check number of columns__<br>\n",
    "columns"
   ]
  },
  {
   "cell_type": "code",
   "execution_count": 45,
   "id": "1bc546b2-f80e-455d-ae3e-72076972485b",
   "metadata": {},
   "outputs": [
    {
     "data": {
      "text/plain": [
       "Index(['E_id ', 'Name ', 'Salary ', 'Gender '], dtype='object')"
      ]
     },
     "execution_count": 45,
     "metadata": {},
     "output_type": "execute_result"
    }
   ],
   "source": [
    "ff.columns"
   ]
  },
  {
   "cell_type": "markdown",
   "id": "2758f62b-397c-42a3-9974-c3bd42a61de5",
   "metadata": {},
   "source": [
    "__Q7. How to check data type from Data__<br>\n",
    "dtypes\n"
   ]
  },
  {
   "cell_type": "code",
   "execution_count": 52,
   "id": "39e89e02-f590-4d72-87a9-6a99e86b3b8b",
   "metadata": {},
   "outputs": [
    {
     "data": {
      "text/plain": [
       "E_id        object\n",
       "Name        object\n",
       "Salary     float64\n",
       "Gender      object\n",
       "dtype: object"
      ]
     },
     "execution_count": 52,
     "metadata": {},
     "output_type": "execute_result"
    }
   ],
   "source": [
    "ff.dtypes"
   ]
  },
  {
   "cell_type": "markdown",
   "id": "0f67367f-161b-460b-ba0b-8823b4fbaa8e",
   "metadata": {},
   "source": [
    "__Q8. head()__<br>\n",
    "head() method use to display top 5 row\n"
   ]
  },
  {
   "cell_type": "code",
   "execution_count": 56,
   "id": "b9437396-319e-4cfd-8751-d7f7ef59ef5f",
   "metadata": {},
   "outputs": [
    {
     "data": {
      "text/html": [
       "<div>\n",
       "<style scoped>\n",
       "    .dataframe tbody tr th:only-of-type {\n",
       "        vertical-align: middle;\n",
       "    }\n",
       "\n",
       "    .dataframe tbody tr th {\n",
       "        vertical-align: top;\n",
       "    }\n",
       "\n",
       "    .dataframe thead th {\n",
       "        text-align: right;\n",
       "    }\n",
       "</style>\n",
       "<table border=\"1\" class=\"dataframe\">\n",
       "  <thead>\n",
       "    <tr style=\"text-align: right;\">\n",
       "      <th></th>\n",
       "      <th>E_id</th>\n",
       "      <th>Name</th>\n",
       "      <th>Salary</th>\n",
       "      <th>Gender</th>\n",
       "    </tr>\n",
       "  </thead>\n",
       "  <tbody>\n",
       "    <tr>\n",
       "      <th>0</th>\n",
       "      <td>E001</td>\n",
       "      <td>Arvind</td>\n",
       "      <td>45000.0</td>\n",
       "      <td>Male</td>\n",
       "    </tr>\n",
       "    <tr>\n",
       "      <th>1</th>\n",
       "      <td>NaN</td>\n",
       "      <td>Anand</td>\n",
       "      <td>NaN</td>\n",
       "      <td>NaN</td>\n",
       "    </tr>\n",
       "    <tr>\n",
       "      <th>2</th>\n",
       "      <td>E003</td>\n",
       "      <td>NaN</td>\n",
       "      <td>1200.0</td>\n",
       "      <td>NaN</td>\n",
       "    </tr>\n",
       "    <tr>\n",
       "      <th>3</th>\n",
       "      <td>E004</td>\n",
       "      <td>Harsh</td>\n",
       "      <td>NaN</td>\n",
       "      <td>Male</td>\n",
       "    </tr>\n",
       "    <tr>\n",
       "      <th>4</th>\n",
       "      <td>NaN</td>\n",
       "      <td>Pooja</td>\n",
       "      <td>14000.0</td>\n",
       "      <td>NaN</td>\n",
       "    </tr>\n",
       "  </tbody>\n",
       "</table>\n",
       "</div>"
      ],
      "text/plain": [
       "  E_id     Name   Salary  Gender \n",
       "0  E001  Arvind   45000.0    Male\n",
       "1   NaN   Anand       NaN     NaN\n",
       "2  E003      NaN   1200.0     NaN\n",
       "3  E004    Harsh      NaN    Male\n",
       "4   NaN   Pooja   14000.0     NaN"
      ]
     },
     "execution_count": 56,
     "metadata": {},
     "output_type": "execute_result"
    }
   ],
   "source": [
    "ff.head()"
   ]
  },
  {
   "cell_type": "markdown",
   "id": "f2abe337-88fd-4351-abd0-4b3e66698a69",
   "metadata": {},
   "source": [
    "__Q9. tail()__<br>\n",
    "tail() method use to display 5 row from buttom"
   ]
  },
  {
   "cell_type": "code",
   "execution_count": 61,
   "id": "59f2f90b-5c46-4e7c-a29b-a14e5ad9ab95",
   "metadata": {},
   "outputs": [
    {
     "data": {
      "text/html": [
       "<div>\n",
       "<style scoped>\n",
       "    .dataframe tbody tr th:only-of-type {\n",
       "        vertical-align: middle;\n",
       "    }\n",
       "\n",
       "    .dataframe tbody tr th {\n",
       "        vertical-align: top;\n",
       "    }\n",
       "\n",
       "    .dataframe thead th {\n",
       "        text-align: right;\n",
       "    }\n",
       "</style>\n",
       "<table border=\"1\" class=\"dataframe\">\n",
       "  <thead>\n",
       "    <tr style=\"text-align: right;\">\n",
       "      <th></th>\n",
       "      <th>E_id</th>\n",
       "      <th>Name</th>\n",
       "      <th>Salary</th>\n",
       "      <th>Gender</th>\n",
       "    </tr>\n",
       "  </thead>\n",
       "  <tbody>\n",
       "    <tr>\n",
       "      <th>3</th>\n",
       "      <td>E004</td>\n",
       "      <td>Harsh</td>\n",
       "      <td>NaN</td>\n",
       "      <td>Male</td>\n",
       "    </tr>\n",
       "    <tr>\n",
       "      <th>4</th>\n",
       "      <td>NaN</td>\n",
       "      <td>Pooja</td>\n",
       "      <td>14000.0</td>\n",
       "      <td>NaN</td>\n",
       "    </tr>\n",
       "    <tr>\n",
       "      <th>5</th>\n",
       "      <td>E006</td>\n",
       "      <td>NaN</td>\n",
       "      <td>NaN</td>\n",
       "      <td>NaN</td>\n",
       "    </tr>\n",
       "    <tr>\n",
       "      <th>6</th>\n",
       "      <td>NaN</td>\n",
       "      <td>Ankit</td>\n",
       "      <td>5800.0</td>\n",
       "      <td>NaN</td>\n",
       "    </tr>\n",
       "    <tr>\n",
       "      <th>7</th>\n",
       "      <td>E008</td>\n",
       "      <td>Sonal</td>\n",
       "      <td>NaN</td>\n",
       "      <td>Male</td>\n",
       "    </tr>\n",
       "  </tbody>\n",
       "</table>\n",
       "</div>"
      ],
      "text/plain": [
       "  E_id    Name   Salary  Gender \n",
       "3  E004   Harsh      NaN    Male\n",
       "4   NaN  Pooja   14000.0     NaN\n",
       "5  E006     NaN      NaN     NaN\n",
       "6   NaN  Ankit    5800.0     NaN\n",
       "7  E008  Sonal       NaN   Male "
      ]
     },
     "execution_count": 61,
     "metadata": {},
     "output_type": "execute_result"
    }
   ],
   "source": [
    "ff.tail()"
   ]
  },
  {
   "cell_type": "markdown",
   "id": "7f43042f-00c6-442c-8681-a54be1bc55f8",
   "metadata": {},
   "source": [
    "__Q10. If we want to display only 3 rows from the top__<br>\n",
    "use index number<br>\n",
    "head(pass the index number)"
   ]
  },
  {
   "cell_type": "code",
   "execution_count": 68,
   "id": "5b000f77-d6f3-409b-afe1-290e521ec29e",
   "metadata": {},
   "outputs": [
    {
     "data": {
      "text/html": [
       "<div>\n",
       "<style scoped>\n",
       "    .dataframe tbody tr th:only-of-type {\n",
       "        vertical-align: middle;\n",
       "    }\n",
       "\n",
       "    .dataframe tbody tr th {\n",
       "        vertical-align: top;\n",
       "    }\n",
       "\n",
       "    .dataframe thead th {\n",
       "        text-align: right;\n",
       "    }\n",
       "</style>\n",
       "<table border=\"1\" class=\"dataframe\">\n",
       "  <thead>\n",
       "    <tr style=\"text-align: right;\">\n",
       "      <th></th>\n",
       "      <th>E_id</th>\n",
       "      <th>Name</th>\n",
       "      <th>Salary</th>\n",
       "      <th>Gender</th>\n",
       "    </tr>\n",
       "  </thead>\n",
       "  <tbody>\n",
       "    <tr>\n",
       "      <th>0</th>\n",
       "      <td>E001</td>\n",
       "      <td>Arvind</td>\n",
       "      <td>45000.0</td>\n",
       "      <td>Male</td>\n",
       "    </tr>\n",
       "    <tr>\n",
       "      <th>1</th>\n",
       "      <td>NaN</td>\n",
       "      <td>Anand</td>\n",
       "      <td>NaN</td>\n",
       "      <td>NaN</td>\n",
       "    </tr>\n",
       "  </tbody>\n",
       "</table>\n",
       "</div>"
      ],
      "text/plain": [
       "  E_id     Name   Salary  Gender \n",
       "0  E001  Arvind   45000.0    Male\n",
       "1   NaN   Anand       NaN     NaN"
      ]
     },
     "execution_count": 68,
     "metadata": {},
     "output_type": "execute_result"
    }
   ],
   "source": [
    "ff.head(2)"
   ]
  },
  {
   "cell_type": "markdown",
   "id": "126961e6-a5ca-4f88-abf2-27fb4891d11c",
   "metadata": {},
   "source": [
    "__Q11. if you want to display only 3 rows from the buttom.__<br>\n",
    "use index number<br>\n",
    "tail(pass index number)"
   ]
  },
  {
   "cell_type": "code",
   "execution_count": 71,
   "id": "de1bbbe0-1ac3-4b7a-8b4f-f49a4dbb6d1c",
   "metadata": {},
   "outputs": [
    {
     "data": {
      "text/html": [
       "<div>\n",
       "<style scoped>\n",
       "    .dataframe tbody tr th:only-of-type {\n",
       "        vertical-align: middle;\n",
       "    }\n",
       "\n",
       "    .dataframe tbody tr th {\n",
       "        vertical-align: top;\n",
       "    }\n",
       "\n",
       "    .dataframe thead th {\n",
       "        text-align: right;\n",
       "    }\n",
       "</style>\n",
       "<table border=\"1\" class=\"dataframe\">\n",
       "  <thead>\n",
       "    <tr style=\"text-align: right;\">\n",
       "      <th></th>\n",
       "      <th>E_id</th>\n",
       "      <th>Name</th>\n",
       "      <th>Salary</th>\n",
       "      <th>Gender</th>\n",
       "    </tr>\n",
       "  </thead>\n",
       "  <tbody>\n",
       "    <tr>\n",
       "      <th>5</th>\n",
       "      <td>E006</td>\n",
       "      <td>NaN</td>\n",
       "      <td>NaN</td>\n",
       "      <td>NaN</td>\n",
       "    </tr>\n",
       "    <tr>\n",
       "      <th>6</th>\n",
       "      <td>NaN</td>\n",
       "      <td>Ankit</td>\n",
       "      <td>5800.0</td>\n",
       "      <td>NaN</td>\n",
       "    </tr>\n",
       "    <tr>\n",
       "      <th>7</th>\n",
       "      <td>E008</td>\n",
       "      <td>Sonal</td>\n",
       "      <td>NaN</td>\n",
       "      <td>Male</td>\n",
       "    </tr>\n",
       "  </tbody>\n",
       "</table>\n",
       "</div>"
      ],
      "text/plain": [
       "  E_id    Name   Salary  Gender \n",
       "5  E006     NaN      NaN     NaN\n",
       "6   NaN  Ankit    5800.0     NaN\n",
       "7  E008  Sonal       NaN   Male "
      ]
     },
     "execution_count": 71,
     "metadata": {},
     "output_type": "execute_result"
    }
   ],
   "source": [
    "ff.tail(3)"
   ]
  },
  {
   "cell_type": "code",
   "execution_count": 19,
   "id": "0b04b7e8-efa6-40bf-8a06-7d3570925c82",
   "metadata": {},
   "outputs": [
    {
     "data": {
      "text/html": [
       "<div>\n",
       "<style scoped>\n",
       "    .dataframe tbody tr th:only-of-type {\n",
       "        vertical-align: middle;\n",
       "    }\n",
       "\n",
       "    .dataframe tbody tr th {\n",
       "        vertical-align: top;\n",
       "    }\n",
       "\n",
       "    .dataframe thead th {\n",
       "        text-align: right;\n",
       "    }\n",
       "</style>\n",
       "<table border=\"1\" class=\"dataframe\">\n",
       "  <thead>\n",
       "    <tr style=\"text-align: right;\">\n",
       "      <th></th>\n",
       "      <th>E_id</th>\n",
       "      <th>Name</th>\n",
       "      <th>Salary</th>\n",
       "      <th>Gender</th>\n",
       "    </tr>\n",
       "  </thead>\n",
       "  <tbody>\n",
       "    <tr>\n",
       "      <th>0</th>\n",
       "      <td>E001</td>\n",
       "      <td>Arvind</td>\n",
       "      <td>45000.0</td>\n",
       "      <td>Male</td>\n",
       "    </tr>\n",
       "    <tr>\n",
       "      <th>1</th>\n",
       "      <td>NaN</td>\n",
       "      <td>Anand</td>\n",
       "      <td>NaN</td>\n",
       "      <td>NaN</td>\n",
       "    </tr>\n",
       "    <tr>\n",
       "      <th>2</th>\n",
       "      <td>E003</td>\n",
       "      <td>NaN</td>\n",
       "      <td>1200.0</td>\n",
       "      <td>NaN</td>\n",
       "    </tr>\n",
       "    <tr>\n",
       "      <th>3</th>\n",
       "      <td>E004</td>\n",
       "      <td>Harsh</td>\n",
       "      <td>NaN</td>\n",
       "      <td>Male</td>\n",
       "    </tr>\n",
       "    <tr>\n",
       "      <th>4</th>\n",
       "      <td>NaN</td>\n",
       "      <td>Pooja</td>\n",
       "      <td>14000.0</td>\n",
       "      <td>NaN</td>\n",
       "    </tr>\n",
       "    <tr>\n",
       "      <th>5</th>\n",
       "      <td>E006</td>\n",
       "      <td>NaN</td>\n",
       "      <td>NaN</td>\n",
       "      <td>NaN</td>\n",
       "    </tr>\n",
       "    <tr>\n",
       "      <th>6</th>\n",
       "      <td>NaN</td>\n",
       "      <td>Ankit</td>\n",
       "      <td>5800.0</td>\n",
       "      <td>NaN</td>\n",
       "    </tr>\n",
       "    <tr>\n",
       "      <th>7</th>\n",
       "      <td>E008</td>\n",
       "      <td>Sonal</td>\n",
       "      <td>NaN</td>\n",
       "      <td>Male</td>\n",
       "    </tr>\n",
       "  </tbody>\n",
       "</table>\n",
       "</div>"
      ],
      "text/plain": [
       "  E_id     Name   Salary  Gender \n",
       "0  E001  Arvind   45000.0    Male\n",
       "1   NaN   Anand       NaN     NaN\n",
       "2  E003      NaN   1200.0     NaN\n",
       "3  E004    Harsh      NaN    Male\n",
       "4   NaN   Pooja   14000.0     NaN\n",
       "5  E006      NaN      NaN     NaN\n",
       "6   NaN   Ankit    5800.0     NaN\n",
       "7  E008   Sonal       NaN   Male "
      ]
     },
     "execution_count": 19,
     "metadata": {},
     "output_type": "execute_result"
    }
   ],
   "source": [
    "ff"
   ]
  },
  {
   "attachments": {},
   "cell_type": "markdown",
   "id": "81d6f256-ec99-4155-b23b-71f2c75aa1ad",
   "metadata": {},
   "source": [
    "__Q12. loc[]__<br>\n",
    "Use the named index in the loc attribute to return the specified row(s).\n"
   ]
  },
  {
   "cell_type": "code",
   "execution_count": 21,
   "id": "50e1a7cf-e281-4f46-9980-6320026afd8e",
   "metadata": {},
   "outputs": [
    {
     "name": "stdout",
     "output_type": "stream",
     "text": [
      "E_id          E001\n",
      "Name       Arvind \n",
      "Salary     45000.0\n",
      "Gender        Male\n",
      "Name: 0, dtype: object\n"
     ]
    }
   ],
   "source": [
    "print(ff.loc[0])"
   ]
  },
  {
   "attachments": {},
   "cell_type": "markdown",
   "id": "86f5c70b-0797-4300-aefe-69d19511c36e",
   "metadata": {},
   "source": [
    "__Q13. Fillna__<br>\n",
    "Basically fillna use for to fill the null values<br>\n",
    "The fillna() method allows us to replace empty cells with a value.\n",
    "\n"
   ]
  },
  {
   "cell_type": "code",
   "execution_count": 78,
   "id": "957c44b7-76a2-4cf1-8682-e2d5a086492d",
   "metadata": {},
   "outputs": [
    {
     "name": "stderr",
     "output_type": "stream",
     "text": [
      "C:\\Users\\dell\\AppData\\Local\\Temp\\ipykernel_16016\\991581000.py:1: FutureWarning: A value is trying to be set on a copy of a DataFrame or Series through chained assignment using an inplace method.\n",
      "The behavior will change in pandas 3.0. This inplace method will never work because the intermediate object on which we are setting values always behaves as a copy.\n",
      "\n",
      "For example, when doing 'df[col].method(value, inplace=True)', try using 'df.method({col: value}, inplace=True)' or df[col] = df[col].method(value) instead, to perform the operation inplace on the original object.\n",
      "\n",
      "\n",
      "  ff[\"Salary \"].fillna(0,inplace=True)\n"
     ]
    },
    {
     "data": {
      "text/html": [
       "<div>\n",
       "<style scoped>\n",
       "    .dataframe tbody tr th:only-of-type {\n",
       "        vertical-align: middle;\n",
       "    }\n",
       "\n",
       "    .dataframe tbody tr th {\n",
       "        vertical-align: top;\n",
       "    }\n",
       "\n",
       "    .dataframe thead th {\n",
       "        text-align: right;\n",
       "    }\n",
       "</style>\n",
       "<table border=\"1\" class=\"dataframe\">\n",
       "  <thead>\n",
       "    <tr style=\"text-align: right;\">\n",
       "      <th></th>\n",
       "      <th>E_id</th>\n",
       "      <th>Name</th>\n",
       "      <th>Salary</th>\n",
       "      <th>Gender</th>\n",
       "    </tr>\n",
       "  </thead>\n",
       "  <tbody>\n",
       "    <tr>\n",
       "      <th>0</th>\n",
       "      <td>E001</td>\n",
       "      <td>Arvind</td>\n",
       "      <td>45000.0</td>\n",
       "      <td>Male</td>\n",
       "    </tr>\n",
       "    <tr>\n",
       "      <th>1</th>\n",
       "      <td>NaN</td>\n",
       "      <td>Anand</td>\n",
       "      <td>0.0</td>\n",
       "      <td>NaN</td>\n",
       "    </tr>\n",
       "    <tr>\n",
       "      <th>2</th>\n",
       "      <td>E003</td>\n",
       "      <td>NaN</td>\n",
       "      <td>1200.0</td>\n",
       "      <td>NaN</td>\n",
       "    </tr>\n",
       "    <tr>\n",
       "      <th>3</th>\n",
       "      <td>E004</td>\n",
       "      <td>Harsh</td>\n",
       "      <td>0.0</td>\n",
       "      <td>Male</td>\n",
       "    </tr>\n",
       "    <tr>\n",
       "      <th>4</th>\n",
       "      <td>NaN</td>\n",
       "      <td>Pooja</td>\n",
       "      <td>14000.0</td>\n",
       "      <td>NaN</td>\n",
       "    </tr>\n",
       "    <tr>\n",
       "      <th>5</th>\n",
       "      <td>E006</td>\n",
       "      <td>NaN</td>\n",
       "      <td>0.0</td>\n",
       "      <td>NaN</td>\n",
       "    </tr>\n",
       "    <tr>\n",
       "      <th>6</th>\n",
       "      <td>NaN</td>\n",
       "      <td>Ankit</td>\n",
       "      <td>5800.0</td>\n",
       "      <td>NaN</td>\n",
       "    </tr>\n",
       "    <tr>\n",
       "      <th>7</th>\n",
       "      <td>E008</td>\n",
       "      <td>Sonal</td>\n",
       "      <td>0.0</td>\n",
       "      <td>Male</td>\n",
       "    </tr>\n",
       "  </tbody>\n",
       "</table>\n",
       "</div>"
      ],
      "text/plain": [
       "  E_id     Name   Salary  Gender \n",
       "0  E001  Arvind   45000.0    Male\n",
       "1   NaN   Anand       0.0     NaN\n",
       "2  E003      NaN   1200.0     NaN\n",
       "3  E004    Harsh      0.0    Male\n",
       "4   NaN   Pooja   14000.0     NaN\n",
       "5  E006      NaN      0.0     NaN\n",
       "6   NaN   Ankit    5800.0     NaN\n",
       "7  E008   Sonal       0.0   Male "
      ]
     },
     "execution_count": 78,
     "metadata": {},
     "output_type": "execute_result"
    }
   ],
   "source": [
    "ff[\"Salary \"].fillna(0,inplace=True)\n",
    "ff"
   ]
  },
  {
   "cell_type": "markdown",
   "id": "f65b6c7b-a743-4c7d-8de8-5de02b9f5770",
   "metadata": {},
   "source": [
    "__Q14. dropna__<br>\n",
    "dropna() use to remove null values \n"
   ]
  },
  {
   "cell_type": "code",
   "execution_count": 14,
   "id": "06745023-ba21-4489-a405-dc0e254408ab",
   "metadata": {},
   "outputs": [
    {
     "data": {
      "text/html": [
       "<div>\n",
       "<style scoped>\n",
       "    .dataframe tbody tr th:only-of-type {\n",
       "        vertical-align: middle;\n",
       "    }\n",
       "\n",
       "    .dataframe tbody tr th {\n",
       "        vertical-align: top;\n",
       "    }\n",
       "\n",
       "    .dataframe thead th {\n",
       "        text-align: right;\n",
       "    }\n",
       "</style>\n",
       "<table border=\"1\" class=\"dataframe\">\n",
       "  <thead>\n",
       "    <tr style=\"text-align: right;\">\n",
       "      <th></th>\n",
       "      <th>E_id</th>\n",
       "      <th>Name</th>\n",
       "      <th>Salary</th>\n",
       "      <th>Gender</th>\n",
       "    </tr>\n",
       "  </thead>\n",
       "  <tbody>\n",
       "    <tr>\n",
       "      <th>0</th>\n",
       "      <td>E001</td>\n",
       "      <td>Arvind</td>\n",
       "      <td>45000.0</td>\n",
       "      <td>Male</td>\n",
       "    </tr>\n",
       "  </tbody>\n",
       "</table>\n",
       "</div>"
      ],
      "text/plain": [
       "  E_id     Name   Salary  Gender \n",
       "0  E001  Arvind   45000.0    Male"
      ]
     },
     "execution_count": 14,
     "metadata": {},
     "output_type": "execute_result"
    }
   ],
   "source": [
    "ff.dropna()"
   ]
  },
  {
   "attachments": {},
   "cell_type": "markdown",
   "id": "b6f9c17a-435a-49b9-b737-602035f57b57",
   "metadata": {},
   "source": [
    "__Q15. How to use MEAN, MEDIAN, OR MODE?__"
   ]
  },
  {
   "attachments": {},
   "cell_type": "markdown",
   "id": "67af745f-983b-43d3-af85-3dd5294867a7",
   "metadata": {},
   "source": [
    "__mean()__<br>\n",
    "Mean = the average value (the sum of all values divided by number of values).\n"
   ]
  },
  {
   "cell_type": "code",
   "execution_count": 31,
   "id": "58072db2-144a-4edf-9898-0a20f6711675",
   "metadata": {},
   "outputs": [
    {
     "data": {
      "text/plain": [
       "16500.0"
      ]
     },
     "execution_count": 31,
     "metadata": {},
     "output_type": "execute_result"
    }
   ],
   "source": [
    "m=ff[\"Salary \"].mean()\n",
    "m"
   ]
  },
  {
   "attachments": {},
   "cell_type": "markdown",
   "id": "eaefdac4-e41a-412c-b9cf-721ec9b06763",
   "metadata": {},
   "source": [
    "__mode()__<br>\n",
    "Mode = the value that appears most frequently.\n"
   ]
  },
  {
   "cell_type": "code",
   "execution_count": 19,
   "id": "a0775789-8362-440c-a035-0875010c6fcc",
   "metadata": {},
   "outputs": [
    {
     "data": {
      "text/plain": [
       "0     1200.0\n",
       "1     5800.0\n",
       "2    14000.0\n",
       "3    45000.0\n",
       "Name: Salary , dtype: float64"
      ]
     },
     "execution_count": 19,
     "metadata": {},
     "output_type": "execute_result"
    }
   ],
   "source": [
    "m=ff[\"Salary \"].mode()\n",
    "m"
   ]
  },
  {
   "attachments": {},
   "cell_type": "markdown",
   "id": "5e724c17-c6bf-4f70-9efd-84ed4957fae0",
   "metadata": {},
   "source": [
    "__median()__<br>\n",
    "Median = the value in the middle, after you have sorted all values ascending.\n",
    "\n",
    "\n"
   ]
  },
  {
   "cell_type": "code",
   "execution_count": 22,
   "id": "11bd41b0-27c5-49fe-ba8b-e4136c5585d1",
   "metadata": {},
   "outputs": [
    {
     "data": {
      "text/plain": [
       "9900.0"
      ]
     },
     "execution_count": 22,
     "metadata": {},
     "output_type": "execute_result"
    }
   ],
   "source": [
    "m=ff[\"Salary \"].median()\n",
    "m"
   ]
  },
  {
   "cell_type": "code",
   "execution_count": 30,
   "id": "d5ca3f75-8458-4887-a82e-1efeec747fcd",
   "metadata": {},
   "outputs": [
    {
     "name": "stdout",
     "output_type": "stream",
     "text": [
      "600.0\n"
     ]
    },
    {
     "name": "stderr",
     "output_type": "stream",
     "text": [
      "C:\\Users\\dell\\AppData\\Local\\Temp\\ipykernel_16672\\2974896466.py:2: FutureWarning: A value is trying to be set on a copy of a DataFrame or Series through chained assignment using an inplace method.\n",
      "The behavior will change in pandas 3.0. This inplace method will never work because the intermediate object on which we are setting values always behaves as a copy.\n",
      "\n",
      "For example, when doing 'df[col].method(value, inplace=True)', try using 'df.method({col: value}, inplace=True)' or df[col] = df[col].method(value) instead, to perform the operation inplace on the original object.\n",
      "\n",
      "\n",
      "  ff[\"Salary \"].fillna(0,inplace=True)\n"
     ]
    }
   ],
   "source": [
    "m=ff[\"Salary \"].median()\n",
    "ff[\"Salary \"].fillna(0,inplace=True)\n",
    "print(m)"
   ]
  },
  {
   "attachments": {},
   "cell_type": "markdown",
   "id": "2071ab21-1cf7-427a-a13a-a9f01272fe06",
   "metadata": {},
   "source": [
    "__Q16. Convert To DATE__ Format"
   ]
  },
  {
   "cell_type": "code",
   "execution_count": 36,
   "id": "b1fe3971-9445-419f-a602-88e3ad3a188b",
   "metadata": {},
   "outputs": [
    {
     "name": "stdout",
     "output_type": "stream",
     "text": [
      "  E_id     Name                        Salary  Gender \n",
      "0  E001  Arvind  1970-01-01 00:00:00.000045000    Male\n",
      "1   NaN   Anand  1970-01-01 00:00:00.000000000     NaN\n",
      "2  E003      NaN 1970-01-01 00:00:00.000001200     NaN\n",
      "3  E004    Harsh 1970-01-01 00:00:00.000000000    Male\n",
      "4   NaN   Pooja  1970-01-01 00:00:00.000014000     NaN\n",
      "5  E006      NaN 1970-01-01 00:00:00.000000000     NaN\n",
      "6   NaN   Ankit  1970-01-01 00:00:00.000005800     NaN\n",
      "7  E008   Sonal  1970-01-01 00:00:00.000000000   Male \n"
     ]
    }
   ],
   "source": [
    "ff[\"Salary \"]=pd.to_datetime(ff[\"Salary \"])\n",
    "print(ff.to_string())"
   ]
  },
  {
   "cell_type": "markdown",
   "id": "e35424eb-7261-4bef-8823-c5441dd85158",
   "metadata": {},
   "source": [
    "__Q17. dropna() with subset__"
   ]
  },
  {
   "cell_type": "code",
   "execution_count": 51,
   "id": "9697dd3b-d800-47d7-a18d-a7535fc1c537",
   "metadata": {},
   "outputs": [
    {
     "data": {
      "text/html": [
       "<div>\n",
       "<style scoped>\n",
       "    .dataframe tbody tr th:only-of-type {\n",
       "        vertical-align: middle;\n",
       "    }\n",
       "\n",
       "    .dataframe tbody tr th {\n",
       "        vertical-align: top;\n",
       "    }\n",
       "\n",
       "    .dataframe thead th {\n",
       "        text-align: right;\n",
       "    }\n",
       "</style>\n",
       "<table border=\"1\" class=\"dataframe\">\n",
       "  <thead>\n",
       "    <tr style=\"text-align: right;\">\n",
       "      <th></th>\n",
       "      <th>E_id</th>\n",
       "      <th>Name</th>\n",
       "      <th>Salary</th>\n",
       "      <th>Gender</th>\n",
       "    </tr>\n",
       "  </thead>\n",
       "  <tbody>\n",
       "    <tr>\n",
       "      <th>0</th>\n",
       "      <td>E001</td>\n",
       "      <td>Arvind</td>\n",
       "      <td>1970-01-01 00:00:00.000045</td>\n",
       "      <td>Male</td>\n",
       "    </tr>\n",
       "    <tr>\n",
       "      <th>3</th>\n",
       "      <td>E004</td>\n",
       "      <td>Harsh</td>\n",
       "      <td>1970-01-01 00:00:00.000000</td>\n",
       "      <td>Male</td>\n",
       "    </tr>\n",
       "    <tr>\n",
       "      <th>7</th>\n",
       "      <td>E008</td>\n",
       "      <td>Sonal</td>\n",
       "      <td>1970-01-01 00:00:00.000000</td>\n",
       "      <td>Male</td>\n",
       "    </tr>\n",
       "  </tbody>\n",
       "</table>\n",
       "</div>"
      ],
      "text/plain": [
       "  E_id     Name                     Salary  Gender \n",
       "0  E001  Arvind  1970-01-01 00:00:00.000045    Male\n",
       "3  E004    Harsh 1970-01-01 00:00:00.000000    Male\n",
       "7  E008   Sonal  1970-01-01 00:00:00.000000   Male "
      ]
     },
     "execution_count": 51,
     "metadata": {},
     "output_type": "execute_result"
    }
   ],
   "source": [
    "ff.dropna(subset=[\"Gender \"],inplace=True)\n",
    "ff"
   ]
  },
  {
   "cell_type": "code",
   "execution_count": 79,
   "id": "77f2d5ea-69f6-445c-a697-6f7219375bba",
   "metadata": {},
   "outputs": [
    {
     "data": {
      "text/html": [
       "<div>\n",
       "<style scoped>\n",
       "    .dataframe tbody tr th:only-of-type {\n",
       "        vertical-align: middle;\n",
       "    }\n",
       "\n",
       "    .dataframe tbody tr th {\n",
       "        vertical-align: top;\n",
       "    }\n",
       "\n",
       "    .dataframe thead th {\n",
       "        text-align: right;\n",
       "    }\n",
       "</style>\n",
       "<table border=\"1\" class=\"dataframe\">\n",
       "  <thead>\n",
       "    <tr style=\"text-align: right;\">\n",
       "      <th></th>\n",
       "      <th>E_id</th>\n",
       "      <th>Name</th>\n",
       "      <th>Salary</th>\n",
       "      <th>Gender</th>\n",
       "    </tr>\n",
       "  </thead>\n",
       "  <tbody>\n",
       "    <tr>\n",
       "      <th>0</th>\n",
       "      <td>E001</td>\n",
       "      <td>Arvind</td>\n",
       "      <td>45000.0</td>\n",
       "      <td>Male</td>\n",
       "    </tr>\n",
       "    <tr>\n",
       "      <th>1</th>\n",
       "      <td>NaN</td>\n",
       "      <td>Anand</td>\n",
       "      <td>NaN</td>\n",
       "      <td>NaN</td>\n",
       "    </tr>\n",
       "    <tr>\n",
       "      <th>2</th>\n",
       "      <td>E003</td>\n",
       "      <td>NaN</td>\n",
       "      <td>1200.0</td>\n",
       "      <td>NaN</td>\n",
       "    </tr>\n",
       "    <tr>\n",
       "      <th>3</th>\n",
       "      <td>E004</td>\n",
       "      <td>Harsh</td>\n",
       "      <td>NaN</td>\n",
       "      <td>Male</td>\n",
       "    </tr>\n",
       "    <tr>\n",
       "      <th>4</th>\n",
       "      <td>NaN</td>\n",
       "      <td>Pooja</td>\n",
       "      <td>14000.0</td>\n",
       "      <td>NaN</td>\n",
       "    </tr>\n",
       "    <tr>\n",
       "      <th>5</th>\n",
       "      <td>E006</td>\n",
       "      <td>NaN</td>\n",
       "      <td>NaN</td>\n",
       "      <td>NaN</td>\n",
       "    </tr>\n",
       "    <tr>\n",
       "      <th>6</th>\n",
       "      <td>NaN</td>\n",
       "      <td>Ankit</td>\n",
       "      <td>5800.0</td>\n",
       "      <td>NaN</td>\n",
       "    </tr>\n",
       "    <tr>\n",
       "      <th>7</th>\n",
       "      <td>E008</td>\n",
       "      <td>Sonal</td>\n",
       "      <td>NaN</td>\n",
       "      <td>Male</td>\n",
       "    </tr>\n",
       "  </tbody>\n",
       "</table>\n",
       "</div>"
      ],
      "text/plain": [
       "  E_id     Name   Salary  Gender \n",
       "0  E001  Arvind   45000.0    Male\n",
       "1   NaN   Anand       NaN     NaN\n",
       "2  E003      NaN   1200.0     NaN\n",
       "3  E004    Harsh      NaN    Male\n",
       "4   NaN   Pooja   14000.0     NaN\n",
       "5  E006      NaN      NaN     NaN\n",
       "6   NaN   Ankit    5800.0     NaN\n",
       "7  E008   Sonal       NaN   Male "
      ]
     },
     "execution_count": 79,
     "metadata": {},
     "output_type": "execute_result"
    }
   ],
   "source": [
    "ff"
   ]
  },
  {
   "cell_type": "markdown",
   "id": "e7a0d315-ece8-4260-b302-45c72461615f",
   "metadata": {},
   "source": [
    "__Q18. Replace values__<br>\n",
    "set \"Salary \"= 67000 in row 1 :\n"
   ]
  },
  {
   "cell_type": "code",
   "execution_count": 83,
   "id": "54182131-24dc-4832-a795-dab9cbcea1a9",
   "metadata": {},
   "outputs": [
    {
     "data": {
      "text/html": [
       "<div>\n",
       "<style scoped>\n",
       "    .dataframe tbody tr th:only-of-type {\n",
       "        vertical-align: middle;\n",
       "    }\n",
       "\n",
       "    .dataframe tbody tr th {\n",
       "        vertical-align: top;\n",
       "    }\n",
       "\n",
       "    .dataframe thead th {\n",
       "        text-align: right;\n",
       "    }\n",
       "</style>\n",
       "<table border=\"1\" class=\"dataframe\">\n",
       "  <thead>\n",
       "    <tr style=\"text-align: right;\">\n",
       "      <th></th>\n",
       "      <th>E_id</th>\n",
       "      <th>Name</th>\n",
       "      <th>Salary</th>\n",
       "      <th>Gender</th>\n",
       "    </tr>\n",
       "  </thead>\n",
       "  <tbody>\n",
       "    <tr>\n",
       "      <th>0</th>\n",
       "      <td>E001</td>\n",
       "      <td>Arvind</td>\n",
       "      <td>45000.0</td>\n",
       "      <td>Male</td>\n",
       "    </tr>\n",
       "    <tr>\n",
       "      <th>1</th>\n",
       "      <td>NaN</td>\n",
       "      <td>Anand</td>\n",
       "      <td>67000.0</td>\n",
       "      <td>NaN</td>\n",
       "    </tr>\n",
       "    <tr>\n",
       "      <th>2</th>\n",
       "      <td>E003</td>\n",
       "      <td>NaN</td>\n",
       "      <td>1200.0</td>\n",
       "      <td>NaN</td>\n",
       "    </tr>\n",
       "    <tr>\n",
       "      <th>3</th>\n",
       "      <td>E004</td>\n",
       "      <td>Harsh</td>\n",
       "      <td>NaN</td>\n",
       "      <td>Male</td>\n",
       "    </tr>\n",
       "    <tr>\n",
       "      <th>4</th>\n",
       "      <td>NaN</td>\n",
       "      <td>Pooja</td>\n",
       "      <td>14000.0</td>\n",
       "      <td>NaN</td>\n",
       "    </tr>\n",
       "    <tr>\n",
       "      <th>5</th>\n",
       "      <td>E006</td>\n",
       "      <td>NaN</td>\n",
       "      <td>NaN</td>\n",
       "      <td>NaN</td>\n",
       "    </tr>\n",
       "    <tr>\n",
       "      <th>6</th>\n",
       "      <td>NaN</td>\n",
       "      <td>Ankit</td>\n",
       "      <td>5800.0</td>\n",
       "      <td>NaN</td>\n",
       "    </tr>\n",
       "    <tr>\n",
       "      <th>7</th>\n",
       "      <td>E008</td>\n",
       "      <td>Sonal</td>\n",
       "      <td>NaN</td>\n",
       "      <td>Male</td>\n",
       "    </tr>\n",
       "  </tbody>\n",
       "</table>\n",
       "</div>"
      ],
      "text/plain": [
       "  E_id     Name   Salary  Gender \n",
       "0  E001  Arvind   45000.0    Male\n",
       "1   NaN   Anand   67000.0     NaN\n",
       "2  E003      NaN   1200.0     NaN\n",
       "3  E004    Harsh      NaN    Male\n",
       "4   NaN   Pooja   14000.0     NaN\n",
       "5  E006      NaN      NaN     NaN\n",
       "6   NaN   Ankit    5800.0     NaN\n",
       "7  E008   Sonal       NaN   Male "
      ]
     },
     "execution_count": 83,
     "metadata": {},
     "output_type": "execute_result"
    }
   ],
   "source": [
    "ff.loc[1,\"Salary \"]=67000\n",
    "ff"
   ]
  },
  {
   "cell_type": "markdown",
   "id": "887685ba-9cc1-44eb-96a7-6af0c6f1496b",
   "metadata": {},
   "source": [
    "__Q19. Duplicate values__"
   ]
  },
  {
   "cell_type": "code",
   "execution_count": 95,
   "id": "1327ce5b-c802-4b43-af08-9b299f7b0aba",
   "metadata": {},
   "outputs": [
    {
     "name": "stdout",
     "output_type": "stream",
     "text": [
      "<bound method DataFrame.duplicated of   E_id     Name   Salary  Gender \n",
      "0  E001  Arvind   45000.0    Male\n",
      "1   NaN   Anand       NaN     NaN\n",
      "2  E003      NaN   1200.0     NaN\n",
      "3  E004    Harsh      NaN    Male\n",
      "4   NaN   Pooja   14000.0     NaN\n",
      "5  E006      NaN      NaN     NaN\n",
      "6   NaN   Ankit    5800.0     NaN\n",
      "7  E008   Sonal       NaN   Male >\n"
     ]
    }
   ],
   "source": [
    "print(ff.duplicated)"
   ]
  },
  {
   "cell_type": "markdown",
   "id": "5116407f-cb0f-47e0-882e-393f6d0dfef8",
   "metadata": {},
   "source": [
    "__Q20. Drop duplicates values__"
   ]
  },
  {
   "cell_type": "code",
   "execution_count": 117,
   "id": "a2edcea4-d8b1-419b-80e0-fac949692c39",
   "metadata": {},
   "outputs": [
    {
     "data": {
      "text/html": [
       "<div>\n",
       "<style scoped>\n",
       "    .dataframe tbody tr th:only-of-type {\n",
       "        vertical-align: middle;\n",
       "    }\n",
       "\n",
       "    .dataframe tbody tr th {\n",
       "        vertical-align: top;\n",
       "    }\n",
       "\n",
       "    .dataframe thead th {\n",
       "        text-align: right;\n",
       "    }\n",
       "</style>\n",
       "<table border=\"1\" class=\"dataframe\">\n",
       "  <thead>\n",
       "    <tr style=\"text-align: right;\">\n",
       "      <th></th>\n",
       "      <th>E_id</th>\n",
       "      <th>Name</th>\n",
       "      <th>Salary</th>\n",
       "      <th>Gender</th>\n",
       "    </tr>\n",
       "  </thead>\n",
       "  <tbody>\n",
       "    <tr>\n",
       "      <th>0</th>\n",
       "      <td>E001</td>\n",
       "      <td>Arvind</td>\n",
       "      <td>45000.0</td>\n",
       "      <td>Male</td>\n",
       "    </tr>\n",
       "    <tr>\n",
       "      <th>1</th>\n",
       "      <td>NaN</td>\n",
       "      <td>Anand</td>\n",
       "      <td>NaN</td>\n",
       "      <td>NaN</td>\n",
       "    </tr>\n",
       "    <tr>\n",
       "      <th>2</th>\n",
       "      <td>E003</td>\n",
       "      <td>NaN</td>\n",
       "      <td>1200.0</td>\n",
       "      <td>NaN</td>\n",
       "    </tr>\n",
       "    <tr>\n",
       "      <th>3</th>\n",
       "      <td>E004</td>\n",
       "      <td>Harsh</td>\n",
       "      <td>NaN</td>\n",
       "      <td>Male</td>\n",
       "    </tr>\n",
       "    <tr>\n",
       "      <th>4</th>\n",
       "      <td>NaN</td>\n",
       "      <td>Pooja</td>\n",
       "      <td>14000.0</td>\n",
       "      <td>NaN</td>\n",
       "    </tr>\n",
       "    <tr>\n",
       "      <th>5</th>\n",
       "      <td>E006</td>\n",
       "      <td>NaN</td>\n",
       "      <td>NaN</td>\n",
       "      <td>NaN</td>\n",
       "    </tr>\n",
       "    <tr>\n",
       "      <th>6</th>\n",
       "      <td>NaN</td>\n",
       "      <td>Ankit</td>\n",
       "      <td>5800.0</td>\n",
       "      <td>NaN</td>\n",
       "    </tr>\n",
       "    <tr>\n",
       "      <th>7</th>\n",
       "      <td>E008</td>\n",
       "      <td>Sonal</td>\n",
       "      <td>NaN</td>\n",
       "      <td>Male</td>\n",
       "    </tr>\n",
       "  </tbody>\n",
       "</table>\n",
       "</div>"
      ],
      "text/plain": [
       "  E_id     Name   Salary  Gender \n",
       "0  E001  Arvind   45000.0    Male\n",
       "1   NaN   Anand       NaN     NaN\n",
       "2  E003      NaN   1200.0     NaN\n",
       "3  E004    Harsh      NaN    Male\n",
       "4   NaN   Pooja   14000.0     NaN\n",
       "5  E006      NaN      NaN     NaN\n",
       "6   NaN   Ankit    5800.0     NaN\n",
       "7  E008   Sonal       NaN   Male "
      ]
     },
     "execution_count": 117,
     "metadata": {},
     "output_type": "execute_result"
    }
   ],
   "source": [
    "ff.drop_duplicates(inplace=True)\n",
    "ff"
   ]
  },
  {
   "cell_type": "markdown",
   "id": "3ae00166-173a-40bd-a4a8-7738d3ff6fc7",
   "metadata": {},
   "source": [
    "__value_count()__\n"
   ]
  },
  {
   "cell_type": "code",
   "execution_count": null,
   "id": "47910c74-0866-4a74-af78-dba39456bcdb",
   "metadata": {},
   "outputs": [],
   "source": [
    "ff.value_counts()"
   ]
  },
  {
   "cell_type": "code",
   "execution_count": 120,
   "id": "10ba2875-98c8-418d-aabf-e401d3a26301",
   "metadata": {},
   "outputs": [
    {
     "ename": "ValueError",
     "evalue": "could not convert string to float: 'E001'",
     "output_type": "error",
     "traceback": [
      "\u001b[1;31m---------------------------------------------------------------------------\u001b[0m",
      "\u001b[1;31mValueError\u001b[0m                                Traceback (most recent call last)",
      "Cell \u001b[1;32mIn[120], line 1\u001b[0m\n\u001b[1;32m----> 1\u001b[0m ff\u001b[38;5;241m.\u001b[39mcorr()\n",
      "File \u001b[1;32m~\\anaconda3\\Lib\\site-packages\\pandas\\core\\frame.py:11049\u001b[0m, in \u001b[0;36mDataFrame.corr\u001b[1;34m(self, method, min_periods, numeric_only)\u001b[0m\n\u001b[0;32m  11047\u001b[0m cols \u001b[38;5;241m=\u001b[39m data\u001b[38;5;241m.\u001b[39mcolumns\n\u001b[0;32m  11048\u001b[0m idx \u001b[38;5;241m=\u001b[39m cols\u001b[38;5;241m.\u001b[39mcopy()\n\u001b[1;32m> 11049\u001b[0m mat \u001b[38;5;241m=\u001b[39m data\u001b[38;5;241m.\u001b[39mto_numpy(dtype\u001b[38;5;241m=\u001b[39m\u001b[38;5;28mfloat\u001b[39m, na_value\u001b[38;5;241m=\u001b[39mnp\u001b[38;5;241m.\u001b[39mnan, copy\u001b[38;5;241m=\u001b[39m\u001b[38;5;28;01mFalse\u001b[39;00m)\n\u001b[0;32m  11051\u001b[0m \u001b[38;5;28;01mif\u001b[39;00m method \u001b[38;5;241m==\u001b[39m \u001b[38;5;124m\"\u001b[39m\u001b[38;5;124mpearson\u001b[39m\u001b[38;5;124m\"\u001b[39m:\n\u001b[0;32m  11052\u001b[0m     correl \u001b[38;5;241m=\u001b[39m libalgos\u001b[38;5;241m.\u001b[39mnancorr(mat, minp\u001b[38;5;241m=\u001b[39mmin_periods)\n",
      "File \u001b[1;32m~\\anaconda3\\Lib\\site-packages\\pandas\\core\\frame.py:1993\u001b[0m, in \u001b[0;36mDataFrame.to_numpy\u001b[1;34m(self, dtype, copy, na_value)\u001b[0m\n\u001b[0;32m   1991\u001b[0m \u001b[38;5;28;01mif\u001b[39;00m dtype \u001b[38;5;129;01mis\u001b[39;00m \u001b[38;5;129;01mnot\u001b[39;00m \u001b[38;5;28;01mNone\u001b[39;00m:\n\u001b[0;32m   1992\u001b[0m     dtype \u001b[38;5;241m=\u001b[39m np\u001b[38;5;241m.\u001b[39mdtype(dtype)\n\u001b[1;32m-> 1993\u001b[0m result \u001b[38;5;241m=\u001b[39m \u001b[38;5;28mself\u001b[39m\u001b[38;5;241m.\u001b[39m_mgr\u001b[38;5;241m.\u001b[39mas_array(dtype\u001b[38;5;241m=\u001b[39mdtype, copy\u001b[38;5;241m=\u001b[39mcopy, na_value\u001b[38;5;241m=\u001b[39mna_value)\n\u001b[0;32m   1994\u001b[0m \u001b[38;5;28;01mif\u001b[39;00m result\u001b[38;5;241m.\u001b[39mdtype \u001b[38;5;129;01mis\u001b[39;00m \u001b[38;5;129;01mnot\u001b[39;00m dtype:\n\u001b[0;32m   1995\u001b[0m     result \u001b[38;5;241m=\u001b[39m np\u001b[38;5;241m.\u001b[39masarray(result, dtype\u001b[38;5;241m=\u001b[39mdtype)\n",
      "File \u001b[1;32m~\\anaconda3\\Lib\\site-packages\\pandas\\core\\internals\\managers.py:1694\u001b[0m, in \u001b[0;36mBlockManager.as_array\u001b[1;34m(self, dtype, copy, na_value)\u001b[0m\n\u001b[0;32m   1692\u001b[0m         arr\u001b[38;5;241m.\u001b[39mflags\u001b[38;5;241m.\u001b[39mwriteable \u001b[38;5;241m=\u001b[39m \u001b[38;5;28;01mFalse\u001b[39;00m\n\u001b[0;32m   1693\u001b[0m \u001b[38;5;28;01melse\u001b[39;00m:\n\u001b[1;32m-> 1694\u001b[0m     arr \u001b[38;5;241m=\u001b[39m \u001b[38;5;28mself\u001b[39m\u001b[38;5;241m.\u001b[39m_interleave(dtype\u001b[38;5;241m=\u001b[39mdtype, na_value\u001b[38;5;241m=\u001b[39mna_value)\n\u001b[0;32m   1695\u001b[0m     \u001b[38;5;66;03m# The underlying data was copied within _interleave, so no need\u001b[39;00m\n\u001b[0;32m   1696\u001b[0m     \u001b[38;5;66;03m# to further copy if copy=True or setting na_value\u001b[39;00m\n\u001b[0;32m   1698\u001b[0m \u001b[38;5;28;01mif\u001b[39;00m na_value \u001b[38;5;129;01mis\u001b[39;00m lib\u001b[38;5;241m.\u001b[39mno_default:\n",
      "File \u001b[1;32m~\\anaconda3\\Lib\\site-packages\\pandas\\core\\internals\\managers.py:1753\u001b[0m, in \u001b[0;36mBlockManager._interleave\u001b[1;34m(self, dtype, na_value)\u001b[0m\n\u001b[0;32m   1751\u001b[0m     \u001b[38;5;28;01melse\u001b[39;00m:\n\u001b[0;32m   1752\u001b[0m         arr \u001b[38;5;241m=\u001b[39m blk\u001b[38;5;241m.\u001b[39mget_values(dtype)\n\u001b[1;32m-> 1753\u001b[0m     result[rl\u001b[38;5;241m.\u001b[39mindexer] \u001b[38;5;241m=\u001b[39m arr\n\u001b[0;32m   1754\u001b[0m     itemmask[rl\u001b[38;5;241m.\u001b[39mindexer] \u001b[38;5;241m=\u001b[39m \u001b[38;5;241m1\u001b[39m\n\u001b[0;32m   1756\u001b[0m \u001b[38;5;28;01mif\u001b[39;00m \u001b[38;5;129;01mnot\u001b[39;00m itemmask\u001b[38;5;241m.\u001b[39mall():\n",
      "\u001b[1;31mValueError\u001b[0m: could not convert string to float: 'E001'"
     ]
    }
   ],
   "source": [
    "ff.corr()"
   ]
  }
 ],
 "metadata": {
  "kernelspec": {
   "display_name": "Python [conda env:base] *",
   "language": "python",
   "name": "conda-base-py"
  },
  "language_info": {
   "codemirror_mode": {
    "name": "ipython",
    "version": 3
   },
   "file_extension": ".py",
   "mimetype": "text/x-python",
   "name": "python",
   "nbconvert_exporter": "python",
   "pygments_lexer": "ipython3",
   "version": "3.12.7"
  }
 },
 "nbformat": 4,
 "nbformat_minor": 5
}
